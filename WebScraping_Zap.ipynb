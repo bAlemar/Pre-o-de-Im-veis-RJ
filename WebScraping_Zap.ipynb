{
 "cells": [
  {
   "cell_type": "markdown",
   "metadata": {},
   "source": [
    "### Usando apenas Request (FAIL)"
   ]
  },
  {
   "cell_type": "code",
   "execution_count": 2,
   "metadata": {},
   "outputs": [],
   "source": [
    "# Começando pelo Site ZapImóveis\n",
    "import requests\n",
    "from bs4 import BeautifulSoup\n",
    "\n",
    "# Fazendo solicitação\n",
    "url = 'https://www.zapimoveis.com.br/venda/galpao-deposito-armazem/rj+rio-de-janeiro+zona-norte+s-cristovao/?__ab=seo-texts:control,exp-aa-test:control,deduplication:select,new-area-logada:variant,preco-metro-quadrado:deslog&transacao=venda&onde=,Rio%20de%20Janeiro,Rio%20de%20Janeiro,Zona%20Norte,S%C3%A3o%20Crist%C3%B3v%C3%A3o,,,neighborhood,BR%3ERio%20de%20Janeiro%3ENULL%3ERio%20de%20Janeiro%3EZona%20Norte%3ESao%20Cristovao,-22.899642,-43.222749,&tipos=galpao_comercial&pagina=1'\n",
    "response = requests.get(url)\n",
    "\n",
    "# bs4\n",
    "soup = BeautifulSoup(response.content,'html.parser')"
   ]
  },
  {
   "cell_type": "code",
   "execution_count": 3,
   "metadata": {},
   "outputs": [],
   "source": [
    "# Percorrendo os dados\n",
    "cookies = response.cookies\n",
    "headers = {\n",
    "    'User-Agent': 'Mozilla/5.0 (Windows NT 10.0; Win64; x64) AppleWebKit/537.36 (KHTML, like Gecko) Chrome/91.0.4472.124 Safari/537.36'\n",
    "}"
   ]
  },
  {
   "cell_type": "code",
   "execution_count": 5,
   "metadata": {},
   "outputs": [],
   "source": [
    "response = requests.get(url,\n",
    "                        headers=headers,\n",
    "                        cookies=cookies)"
   ]
  },
  {
   "cell_type": "code",
   "execution_count": 6,
   "metadata": {},
   "outputs": [],
   "source": [
    "soup = BeautifulSoup(response.content,'html.parser')"
   ]
  },
  {
   "cell_type": "code",
   "execution_count": 7,
   "metadata": {},
   "outputs": [
    {
     "data": {
      "text/plain": [
       "[]"
      ]
     },
     "execution_count": 7,
     "metadata": {},
     "output_type": "execute_result"
    }
   ],
   "source": [
    "all_cards_content = soup.find_all('div',class_='l-card__content')\n",
    "all_cards_content"
   ]
  },
  {
   "cell_type": "markdown",
   "metadata": {},
   "source": [
    "### Using Selenium + Request"
   ]
  },
  {
   "cell_type": "code",
   "execution_count": null,
   "metadata": {},
   "outputs": [],
   "source": [
    "from selenium import webdriver\n",
    "from selenium.webdriver.common.keys import Keys\n",
    "from selenium.webdriver.common.by import By\n",
    "from selenium.webdriver.support.ui import WebDriverWait\n",
    "from selenium.webdriver.support import expected_conditions as EC\n",
    "from bs4 import BeautifulSoup\n",
    "import time\n",
    "# Temos que scrollar toda a página para pegar todos os dados\n",
    "# Para isso utilizaremos SELENIUM e depois pegaremos HTML do Drive\n",
    "\n",
    "\n",
    "# Configuração do WebDriver (certifique-se de ter o WebDriver instalado e no PATH)\n",
    "driver = webdriver.Chrome()\n",
    "\n",
    "url = 'https://www.zapimoveis.com.br/venda/galpao-deposito-armazem/rj+rio-de-janeiro+zona-norte+s-cristovao/?__ab=seo-texts:control,exp-aa-test:control,deduplication:select,new-area-logada:variant,preco-metro-quadrado:deslog&transacao=venda&onde=,Rio%20de%20Janeiro,Rio%20de%20Janeiro,Zona%20Norte,S%C3%A3o%20Crist%C3%B3v%C3%A3o,,,neighborhood,BR%3ERio%20de%20Janeiro%3ENULL%3ERio%20de%20Janeiro%3EZona%20Norte%3ESao%20Cristovao,-22.899642,-43.222749,&tipos=galpao_comercial&pagina=1'\n",
    "\n",
    "# Abre a página\n",
    "driver.get(url)\n",
    " \n",
    "time.sleep(5)\n",
    "scroll_percentage = 20\n",
    "# Simula um scroll mais \"humano\"\n",
    "# O Scroll quando movido para final da página instantenamente os dados não carregam\n",
    "# logo é necessário fazer uma progressão no scroll\n",
    "\n",
    "for i in range(18):\n",
    "    # Define a porcentagem desejada (70% neste caso)\n",
    "    print(scroll_percentage)\n",
    "\n",
    "    # Calcula a altura total da página\n",
    "    total_height = driver.execute_script(\"return Math.max( document.body.scrollHeight, document.body.offsetHeight, document.documentElement.clientHeight, document.documentElement.scrollHeight, document.documentElement.offsetHeight );\")\n",
    "    # Calcula a posição em pixels para rolar até a porcentagem desejada\n",
    "    scroll_position = int((scroll_percentage / 100) * total_height)\n",
    "    # Rola até o final da página\n",
    "    driver.execute_script(f\"window.scrollTo(0, {scroll_position});\")\n",
    "    \n",
    "    #Time Sleep Necessário se não vai direto\n",
    "    time.sleep(1)\n",
    "    \n",
    "    if scroll_percentage > 50:\n",
    "        scroll_percentage +=3\n",
    "    else:\n",
    "        scroll_percentage += 5\n",
    "\n",
    "\n",
    "time.sleep(3)\n",
    "\n",
    " # Obtém o HTML após o scroll\n",
    "html = driver.page_source\n",
    "\n",
    "# Criando um objeto BeautifulSoup para analisar o HTML\n",
    "soup = BeautifulSoup(html, 'html.parser')"
   ]
  },
  {
   "cell_type": "code",
   "execution_count": null,
   "metadata": {},
   "outputs": [],
   "source": [
    "lista_anuncios = soup.find_all('div',class_='listing-wrapper__content')\n",
    "\n",
    "#Tentando percorrer os anuncios:\n",
    "card_content = lista_anuncios[0].find_all('div',class_='l-card__content')\n",
    "\n",
    "for i in card_content:\n",
    "    preco_imovel = i.find_all('p',class_=\"l-text l-u-color-neutral-28 l-text--variant-heading-small l-text--weight-bold undefined\")[0].text\n",
    "    metro_quadrado = i.find_all('p',class_='l-text l-u-color-neutral-28 l-text--variant-body-small l-text--weight-regular card__amenity')[0].text\n",
    "    localizacao_rua = i.find_all('p',class_='l-text l-u-color-neutral-28 l-text--variant-body-small l-text--weight-regular card__street')[0].text\n"
   ]
  }
 ],
 "metadata": {
  "kernelspec": {
   "display_name": "Python 3",
   "language": "python",
   "name": "python3"
  },
  "language_info": {
   "codemirror_mode": {
    "name": "ipython",
    "version": 3
   },
   "file_extension": ".py",
   "mimetype": "text/x-python",
   "name": "python",
   "nbconvert_exporter": "python",
   "pygments_lexer": "ipython3",
   "version": "3.10.12"
  }
 },
 "nbformat": 4,
 "nbformat_minor": 2
}
